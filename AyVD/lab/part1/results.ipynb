{
 "metadata": {
  "language_info": {
   "codemirror_mode": {
    "name": "ipython",
    "version": 3
   },
   "file_extension": ".py",
   "mimetype": "text/x-python",
   "name": "python",
   "nbconvert_exporter": "python",
   "pygments_lexer": "ipython3",
   "version": "3.9.4"
  },
  "orig_nbformat": 2,
  "kernelspec": {
   "name": "python394jvsc74a57bd080af266bafd8e247c0b49f2e50251c764a3892656b4d76147bd056600b191ff0",
   "display_name": "Python 3.9.4 64-bit ('diplodatos-ayvd': conda)"
  }
 },
 "nbformat": 4,
 "nbformat_minor": 2,
 "cells": [
  {
   "cell_type": "code",
   "execution_count": 4,
   "metadata": {},
   "outputs": [
    {
     "output_type": "error",
     "ename": "SyntaxError",
     "evalue": "invalid syntax (<ipython-input-4-ddf779cc53d9>, line 14)",
     "traceback": [
      "\u001b[0;36m  File \u001b[0;32m\"<ipython-input-4-ddf779cc53d9>\"\u001b[0;36m, line \u001b[0;32m14\u001b[0m\n\u001b[0;31m    cond = DATASET[work_contract_type] == 'Full-Time' &&\u001b[0m\n\u001b[0m                                                       ^\u001b[0m\n\u001b[0;31mSyntaxError\u001b[0m\u001b[0;31m:\u001b[0m invalid syntax\n"
     ]
    }
   ],
   "source": [
    "import pandas as pd\n",
    "\n",
    "# 1)\n",
    "URL = 'https://cs.famaf.unc.edu.ar/~mteruel/datasets/diplodatos/sysarmy_survey_2020_processed.csv'\n",
    "DATASET = pd.read_csv(URL)\n",
    "\n",
    "# 2)\n",
    "work_contract_type = 'work_contract_type'\n",
    "work_role = 'work_role'\n",
    "profile_years_experience = 'profile_years_experience'\n",
    "salary_in_usd = 'salary_in_usd'\n",
    "\n",
    "\n",
    "cond = DATASET[work_contract_type] == 'Full-Time' &&\n",
    "       DATASET[work_role] == 'Data Scientist / Data Engineer' &&\n",
    "\n",
    "DATASET[cond]\n"
   ]
  },
  {
   "cell_type": "code",
   "execution_count": null,
   "metadata": {},
   "outputs": [],
   "source": []
  }
 ]
}